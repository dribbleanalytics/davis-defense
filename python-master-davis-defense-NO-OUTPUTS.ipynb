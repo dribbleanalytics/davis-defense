{
 "cells": [
  {
   "cell_type": "code",
   "execution_count": null,
   "metadata": {},
   "outputs": [],
   "source": [
    "%matplotlib inline\n",
    "\n",
    "import matplotlib.pyplot as plt\n",
    "import numpy as np\n",
    "import pandas as pd\n",
    "from sklearn.preprocessing import MinMaxScaler\n",
    "from scipy import spatial\n",
    "from scipy import stats\n",
    "from scipy.stats import linregress"
   ]
  },
  {
   "cell_type": "markdown",
   "metadata": {},
   "source": [
    "# Load and clean data"
   ]
  },
  {
   "cell_type": "code",
   "execution_count": null,
   "metadata": {},
   "outputs": [],
   "source": [
    "df = pd.read_csv('davis-data.csv')"
   ]
  },
  {
   "cell_type": "code",
   "execution_count": null,
   "metadata": {},
   "outputs": [],
   "source": [
    "df.head()"
   ]
  },
  {
   "cell_type": "markdown",
   "metadata": {},
   "source": [
    "# Create DAVIS calculator"
   ]
  },
  {
   "cell_type": "code",
   "execution_count": null,
   "metadata": {},
   "outputs": [],
   "source": [
    "pos_features = ['STL', 'BLK', 'STL%', 'BLK%', 'DFGA', 'DWS', 'DBPM']\n",
    "neg_features = ['DRTG']"
   ]
  },
  {
   "cell_type": "code",
   "execution_count": null,
   "metadata": {},
   "outputs": [],
   "source": [
    "def calc_dist(pos, neg, df):\n",
    "    \n",
    "    features = pos + neg\n",
    "    \n",
    "    df_norm = df.copy()\n",
    "    df_norm[features] = MinMaxScaler().fit_transform(df_norm[features])\n",
    "    \n",
    "    max_good = list(df_norm[pos].max().values)\n",
    "    min_bad = list(df_norm[neg].min().values)\n",
    "    best_values = max_good + min_bad\n",
    "\n",
    "    euclid = []\n",
    "    manhat = []\n",
    "    wasser = []\n",
    "    \n",
    "    for index, row in df_norm.iterrows():\n",
    "        euclid.append(spatial.distance.euclidean(row[features], best_values))\n",
    "        manhat.append(spatial.distance.cityblock(row[features], best_values))\n",
    "        wasser.append(stats.wasserstein_distance(row[features], best_values))\n",
    "        \n",
    "    dist_df = pd.DataFrame(zip(df['Player'], euclid, manhat, wasser), columns = ['player', 'euclid', 'manhat', 'wasser'])\n",
    "    dist_df[['euclid', 'manhat', 'wasser']] = MinMaxScaler().fit_transform(dist_df[['euclid', 'manhat', 'wasser']])\n",
    "    \n",
    "    dist_df['davis'] = (dist_df['euclid'] + dist_df['manhat'] + dist_df['wasser']) / 3\n",
    "    dist_df['davis'] *= -1\n",
    "    dist_df['davis'] += 1\n",
    "    dist_df['pos'] = df['Pos']\n",
    "        \n",
    "    dist_df = dist_df.sort_values(by = 'davis', ascending = False).reset_index(drop = True)\n",
    "    return(dist_df)"
   ]
  },
  {
   "cell_type": "code",
   "execution_count": null,
   "metadata": {},
   "outputs": [],
   "source": [
    "davis = calc_dist(pos_features, neg_features, df)"
   ]
  },
  {
   "cell_type": "markdown",
   "metadata": {},
   "source": [
    "# Plot DAVIS results"
   ]
  },
  {
   "cell_type": "code",
   "execution_count": null,
   "metadata": {},
   "outputs": [],
   "source": [
    "def plot_davis(df, posname, label_height, fname):\n",
    "    \n",
    "    plt.style.use('fivethirtyeight')\n",
    "    fig, ax = plt.subplots()\n",
    "    \n",
    "    df = df.sort_values(by = 'davis', ascending = False)\n",
    "    \n",
    "    y = df['davis'][0:10].values\n",
    "    x = np.arange(len(y))\n",
    "    \n",
    "    ax.bar(x, y, color = 'skyblue', edgecolor = 'white', linewidth = 4.5)\n",
    "    ax.xaxis.set_visible(False)\n",
    "    ax.set_ylabel(\"DAVIS\")\n",
    "    \n",
    "    labels = df['player'].values\n",
    "\n",
    "    rects = ax.patches\n",
    "    for rect, label in zip(rects, labels):\n",
    "        ax.text(rect.get_x() + rect.get_width() / 1.75, label_height, label,\n",
    "        ha='center', va='bottom', rotation = 'vertical', color = 'black')\n",
    "        \n",
    "    fig.suptitle(\"DAVIS ranking for %s\" % (posname + \"s\"), size = 18, weight = 'bold', y = 1.005)\n",
    "    ax.set_title('1 = best possible DAVIS', size = 14, fontname = 'Rockwell')\n",
    "    \n",
    "    fig.text(x = -0.03, y = 0.02,\n",
    "        s = '____________________________________________________________',\n",
    "        fontsize = 14, color = 'grey', horizontalalignment='left', alpha = .3)\n",
    "\n",
    "    fig.text(x = -0.03, y = -.04,\n",
    "        s = 'https://dribbleanalytics.blog                     ',\n",
    "        fontsize = 14, fontname = 'Rockwell', color = 'grey', horizontalalignment='left')\n",
    "    \n",
    "    fig.savefig('%s.png' % fname, dpi = 400, bbox_inches = 'tight')"
   ]
  },
  {
   "cell_type": "code",
   "execution_count": null,
   "metadata": {},
   "outputs": [],
   "source": [
    "plot_davis(davis[davis['pos'] == 'guard'], 'guard', .02, 'davis-gaurds')"
   ]
  },
  {
   "cell_type": "code",
   "execution_count": null,
   "metadata": {},
   "outputs": [],
   "source": [
    "plot_davis(davis[davis['pos'] == 'wing'], 'wing', .02, 'davis-wings')"
   ]
  },
  {
   "cell_type": "code",
   "execution_count": null,
   "metadata": {},
   "outputs": [],
   "source": [
    "plot_davis(davis[davis['pos'] == 'big'], 'big', .025, 'davis-bigs')"
   ]
  },
  {
   "cell_type": "markdown",
   "metadata": {},
   "source": [
    "# Compare DAVIS to DWS, DBPM, and DRPM"
   ]
  },
  {
   "cell_type": "code",
   "execution_count": null,
   "metadata": {},
   "outputs": [],
   "source": [
    "df = df.rename(columns = {\"Player\" : \"player\"})\n",
    "davis_adv = pd.merge(davis[['player', 'pos', 'davis']], df[['player', 'DWS', 'DBPM']], how = 'inner')\n",
    "\n",
    "rpm = pd.read_csv('espn-rpm.csv')\n",
    "davis_rpm = pd.merge(davis[['player', 'pos', 'davis']], rpm[['player', 'drpm']], how = 'inner')"
   ]
  },
  {
   "cell_type": "code",
   "execution_count": null,
   "metadata": {},
   "outputs": [],
   "source": [
    "plt.style.use('fivethirtyeight')\n",
    "davis_dws_scat, ax = plt.subplots()\n",
    "\n",
    "x = davis_adv['davis']\n",
    "y = davis_adv['DWS']\n",
    "\n",
    "ax.scatter(x, y)\n",
    "ax.plot(np.unique(x), np.poly1d(np.polyfit(x, y, 1))(np.unique(x)), color = 'C1')\n",
    "\n",
    "ax.set_xlabel(\"DAVIS\")\n",
    "ax.set_ylabel(\"DWS\")\n",
    "\n",
    "slope, intercept, r_value, p_value, std_err = linregress(x, y)\n",
    "    \n",
    "ax.set_title(\"r = %s\" %str(round(r_value, 3)), size = 14, fontname = 'Rockwell')\n",
    "davis_dws_scat.suptitle('DWS vs. DAVIS', size = 18, weight = 'bold', y = 1.005)\n",
    "\n",
    "davis_dws_scat.text(x = 0, y = -0.07,\n",
    "    s = '_____________________________________________________________',\n",
    "    fontsize = 14, color = 'grey', horizontalalignment='left', alpha = .3)\n",
    "\n",
    "davis_dws_scat.text(x = 0, y = -.13,\n",
    "    s = 'https://dribbleanalytics.blog                     ',\n",
    "    fontsize = 14, fontname = 'Rockwell', color = 'grey', horizontalalignment='left')\n",
    "    \n",
    "davis_dws_scat.savefig('davis_dws.png', dpi = 400, bbox_inches = 'tight')"
   ]
  },
  {
   "cell_type": "code",
   "execution_count": null,
   "metadata": {},
   "outputs": [],
   "source": [
    "plt.style.use('fivethirtyeight')\n",
    "davis_dbpm_scat, ax = plt.subplots()\n",
    "\n",
    "x = davis_adv['davis']\n",
    "y = davis_adv['DBPM']\n",
    "\n",
    "ax.scatter(x, y)\n",
    "ax.plot(np.unique(x), np.poly1d(np.polyfit(x, y, 1))(np.unique(x)), color = 'C1')\n",
    "\n",
    "ax.set_xlabel(\"DAVIS\")\n",
    "ax.set_ylabel(\"DBPM\")\n",
    "\n",
    "slope, intercept, r_value, p_value, std_err = linregress(x, y)\n",
    "    \n",
    "ax.set_title(\"r = %s\" %str(round(r_value, 3)), size = 14, fontname = 'Rockwell')\n",
    "davis_dbpm_scat.suptitle('DBPM vs. DAVIS', size = 18, weight = 'bold', y = 1.005)\n",
    "\n",
    "davis_dbpm_scat.text(x = -0.03, y = -0.07,\n",
    "    s = '_____________________________________________________________',\n",
    "    fontsize = 14, color = 'grey', horizontalalignment='left', alpha = .3)\n",
    "\n",
    "davis_dbpm_scat.text(x = -0.03, y = -.13,\n",
    "    s = 'https://dribbleanalytics.blog                     ',\n",
    "    fontsize = 14, fontname = 'Rockwell', color = 'grey', horizontalalignment='left')\n",
    "    \n",
    "davis_dbpm_scat.savefig('davis_dbpm.png', dpi = 400, bbox_inches = 'tight')"
   ]
  },
  {
   "cell_type": "code",
   "execution_count": null,
   "metadata": {},
   "outputs": [],
   "source": [
    "plt.style.use('fivethirtyeight')\n",
    "davis_rpm_scat, ax = plt.subplots()\n",
    "\n",
    "x = davis_rpm['davis']\n",
    "y = davis_rpm['drpm']\n",
    "\n",
    "ax.scatter(x, y)\n",
    "ax.plot(np.unique(x), np.poly1d(np.polyfit(x, y, 1))(np.unique(x)), color = 'C1')\n",
    "\n",
    "ax.set_xlabel(\"DAVIS\")\n",
    "ax.set_ylabel(\"DRPM\")\n",
    "\n",
    "slope, intercept, r_value, p_value, std_err = linregress(x, y)\n",
    "    \n",
    "ax.set_title(\"r = %s\" %str(round(r_value, 3)), size = 14, fontname = 'Rockwell')\n",
    "davis_rpm_scat.suptitle('DRPM vs. DAVIS', size = 18, weight = 'bold', y = 1.005)\n",
    "\n",
    "davis_rpm_scat.text(x = -0.03, y = -0.07,\n",
    "    s = '_____________________________________________________________',\n",
    "    fontsize = 14, color = 'grey', horizontalalignment='left', alpha = .3)\n",
    "\n",
    "davis_rpm_scat.text(x = -0.03, y = -.13,\n",
    "    s = 'https://dribbleanalytics.blog                     ',\n",
    "    fontsize = 14, fontname = 'Rockwell', color = 'grey', horizontalalignment='left')\n",
    "    \n",
    "davis_rpm_scat.savefig('davis_drpm.png', dpi = 400, bbox_inches = 'tight')"
   ]
  },
  {
   "cell_type": "code",
   "execution_count": null,
   "metadata": {},
   "outputs": [],
   "source": [
    "plt.style.use('fivethirtyeight')\n",
    "davis_rpm__rank_scat, ax = plt.subplots()\n",
    "\n",
    "davis_rpm['davis_rank'] = davis_rpm['davis'].rank(ascending = False, method = 'dense')\n",
    "davis_rpm['drpm_rank'] = davis_rpm['drpm'].rank(ascending = False, method = 'dense')\n",
    "\n",
    "x = davis_rpm['davis_rank']\n",
    "y = davis_rpm['drpm_rank']\n",
    "\n",
    "ax.scatter(x, y)\n",
    "ax.plot(np.unique(x), np.poly1d(np.polyfit(x, y, 1))(np.unique(x)), color = 'C1')\n",
    "\n",
    "ax.set_xlabel(\"DAVIS rank\")\n",
    "ax.set_ylabel(\"DRPM rank\")\n",
    "\n",
    "slope, intercept, r_value, p_value, std_err = linregress(x, y)\n",
    "    \n",
    "ax.set_title(\"r = %s\" %str(round(r_value, 3)), size = 14, fontname = 'Rockwell')\n",
    "davis_rpm__rank_scat.suptitle('DRPM vs. DAVIS ranking', size = 18, weight = 'bold', y = 1.005)\n",
    "\n",
    "davis_rpm__rank_scat.text(x = -0.03, y = -0.07,\n",
    "    s = '_____________________________________________________________',\n",
    "    fontsize = 14, color = 'grey', horizontalalignment='left', alpha = .3)\n",
    "\n",
    "davis_rpm__rank_scat.text(x = -0.03, y = -.13,\n",
    "    s = 'https://dribbleanalytics.blog                     ',\n",
    "    fontsize = 14, fontname = 'Rockwell', color = 'grey', horizontalalignment='left')\n",
    "    \n",
    "davis_rpm__rank_scat.savefig('davis_drpm_rank.png', dpi = 400, bbox_inches = 'tight')"
   ]
  },
  {
   "cell_type": "code",
   "execution_count": null,
   "metadata": {},
   "outputs": [],
   "source": [
    "davis_rpm['drpm_diff'] = davis_rpm['davis_rank'] - davis_rpm['drpm_rank']\n",
    "\n",
    "davis_rpm.sort_values(by = 'drpm_diff')"
   ]
  },
  {
   "cell_type": "code",
   "execution_count": null,
   "metadata": {},
   "outputs": [],
   "source": [
    "davis_adv.columns.values"
   ]
  },
  {
   "cell_type": "code",
   "execution_count": null,
   "metadata": {},
   "outputs": [],
   "source": [
    "final = pd.merge(davis_rpm, davis_adv[['player', 'DWS', 'DBPM']], how = 'inner', on = ['player'])"
   ]
  },
  {
   "cell_type": "code",
   "execution_count": null,
   "metadata": {},
   "outputs": [],
   "source": [
    "final.to_csv('davis-rank.csv', index = None)"
   ]
  }
 ],
 "metadata": {
  "kernelspec": {
   "display_name": "Python 3",
   "language": "python",
   "name": "python3"
  },
  "language_info": {
   "codemirror_mode": {
    "name": "ipython",
    "version": 3
   },
   "file_extension": ".py",
   "mimetype": "text/x-python",
   "name": "python",
   "nbconvert_exporter": "python",
   "pygments_lexer": "ipython3",
   "version": "3.6.4"
  }
 },
 "nbformat": 4,
 "nbformat_minor": 2
}
